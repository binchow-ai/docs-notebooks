{
 "cells": [
  {
   "cell_type": "markdown",
   "id": "b5dcbf95-9a30-416d-afed-d5b2bf0e8651",
   "metadata": {},
   "source": [
    "# GraphRAG with MongoDB and LangChain\n",
    "\n",
    "This notebook is a companion to the [GraphRAG with MongoDB and LangChain](https://www.mongodb.com/docs/atlas/atlas-vector-search/ai-integrations/langchain/graph-rag/) tutorial. Refer to the page for set-up instructions and detailed explanations.\n",
    "\n",
    "This notebook demonstrates a GraphRAG implementation using MongoDB Atlas and LangChain. Compared to vector-based RAG which structures your data as vector embeddings, GraphRAG structures data as a knowledge graph with entities and their relationships. This enables relationship-aware retrieval and multi-hop reasoning.\n",
    "\n",
    "<a target=\"_blank\" href=\"https://colab.research.google.com/github/mongodb/docs-notebooks/blob/main/ai-integrations/langchain-graphrag.ipynb\">\n",
    "  <img src=\"https://colab.research.google.com/assets/colab-badge.svg\" alt=\"Open In Colab\"/>\n",
    "</a>"
   ]
  },
  {
   "cell_type": "code",
   "execution_count": null,
   "id": "23f70093-83ea-4ecc-87db-2f2f89e546d7",
   "metadata": {
    "scrolled": true
   },
   "outputs": [],
   "source": [
    "pip install --quiet --upgrade pymongo langchain_community wikipedia langchain_openai langchain_mongodb pyvis"
   ]
  },
  {
   "cell_type": "markdown",
   "id": "d96955f9-a370-4f45-970d-ef187ee6195c",
   "metadata": {},
   "source": [
    "## Set up your environment\n",
    "\n",
    "Before you begin, make sure you have the following:\n",
    "\n",
    "- An Atlas cluster up and running (you'll need the [connection string](https://www.mongodb.com/docs/guides/atlas/connection-string/))\n",
    "- An API key to access an LLM (This tutorial uses a model from OpenAI, but it can be any model [supported by LangChain](https://python.langchain.com/docs/integrations/chat/))"
   ]
  },
  {
   "cell_type": "code",
   "execution_count": null,
   "id": "0119b58d-f14e-4f36-a284-345d94478537",
   "metadata": {},
   "outputs": [],
   "source": [
    "import os\n",
    "\n",
    "os.environ[\"OPENAI_API_KEY\"] = \"<api-key>\"\n",
    "ATLAS_CONNECTION_STRING = \"<connection-string>\"\n",
    "ATLAS_DB_NAME = \"langchain_db\"    # MongoDB database to store the knowledge graph\n",
    "ATLAS_COLLECTION = \"wikipedia\"    # MongoDB collection to store the knowledge graph"
   ]
  },
  {
   "cell_type": "markdown",
   "id": "0adf66a8",
   "metadata": {},
   "source": [
    "## Use MongoDB Atlas as a knowledge graph\n",
    "\n",
    "Use the `MongoDBGraphStore` component to store your data as a knowledge graph. This component allows you to implement GraphRAG by storing entities (nodes) and their relationships (edges) in a MongoDB collection. It stores each entity as a document with relationship fields that reference other documents in your collection."
   ]
  },
  {
   "cell_type": "code",
   "execution_count": null,
   "id": "f4e8db2f-d918-41aa-92f8-41f80a6d747a",
   "metadata": {},
   "outputs": [],
   "source": [
    "from langchain_openai import OpenAI\n",
    "from langchain.chat_models import init_chat_model\n",
    "\n",
    "# For best results, use latest models such as gpt-4o and Claude Sonnet 3.5+, etc.\n",
    "chat_model = init_chat_model(\"gpt-4o\", model_provider=\"openai\", temperature=0)"
   ]
  },
  {
   "cell_type": "code",
   "execution_count": null,
   "id": "72cd5c08-e17b-4f47-bca7-ded0fb25fb85",
   "metadata": {},
   "outputs": [],
   "source": [
    "from langchain_community.document_loaders import WikipediaLoader\n",
    "from langchain.text_splitter import TokenTextSplitter\n",
    "\n",
    "# Load Wikipedia pages corresponding to the query \"Sherlock Holmes\"\n",
    "wikipedia_pages = WikipediaLoader(query=\"Sherlock Holmes\", load_max_docs=3).load()\n",
    "\n",
    "# Split the documents into chunks for efficient downstream processing (graph creation)\n",
    "text_splitter = TokenTextSplitter(chunk_size=1024, chunk_overlap=0)\n",
    "wikipedia_docs = text_splitter.split_documents(wikipedia_pages)\n",
    "\n",
    "# Print the first document\n",
    "wikipedia_docs[0]"
   ]
  },
  {
   "cell_type": "code",
   "execution_count": null,
   "id": "2dc8f05b-0f9a-4293-b9ea-761030c98dca",
   "metadata": {},
   "outputs": [],
   "source": [
    "from langchain_mongodb.graphrag.graph import MongoDBGraphStore\n",
    "\n",
    "graph_store = MongoDBGraphStore(\n",
    "    connection_string = ATLAS_CONNECTION_STRING,\n",
    "    database_name = ATLAS_DB_NAME,\n",
    "    collection_name = ATLAS_COLLECTION,\n",
    "    entity_extraction_model = chat_model\n",
    ")"
   ]
  },
  {
   "cell_type": "code",
   "execution_count": null,
   "id": "3664189e",
   "metadata": {},
   "outputs": [],
   "source": [
    "# Extract entities and create knowledge graph in Atlas\n",
    "# This might take a few minutes; you can ignore any warnings\n",
    "graph_store.add_documents(wikipedia_docs)"
   ]
  },
  {
   "cell_type": "markdown",
   "id": "b167c2eb-b2c5-45ef-bdc9-8230f7da4c52",
   "metadata": {},
   "source": [
    "## Visualize the knowledge graph\n",
    "\n",
    "To visualize the knowledge graph, you can export the structured data to a visualization library like `pyvis`.\n",
    "This helps you to explore and understand the relationships and hierarchies within your data."
   ]
  },
  {
   "cell_type": "code",
   "execution_count": null,
   "id": "8b515723-a8a4-435b-b386-5cb3244c2745",
   "metadata": {},
   "outputs": [],
   "source": [
    "import networkx as nx\n",
    "from pyvis.network import Network\n",
    "from pymongo import MongoClient\n",
    "\n",
    "client = MongoClient(ATLAS_CONNECTION_STRING)\n",
    "collection = client[ATLAS_DB_NAME][ATLAS_COLLECTION]\n",
    "\n",
    "docs = list(collection.find())\n",
    "\n",
    "# Function to convert attributes dictionary to a display string\n",
    "def format_attributes(attributes):\n",
    "    if not attributes:\n",
    "        return \"\"\n",
    "    parts = []\n",
    "    for key, values in attributes.items():\n",
    "        parts.append(f\"{key}: {', '.join(values)}\")\n",
    "    return \"<br>\".join(parts)\n",
    "\n",
    "# Create a NetworkX graph\n",
    "G = nx.DiGraph()\n",
    "\n",
    "# Add nodes with their attributes\n",
    "for doc in docs:\n",
    "    node_id = doc[\"_id\"]\n",
    "    # Combine document type and its attributes (if any) for the hover tooltip\n",
    "    node_info = f\"Type: {doc.get('type', '')}\"\n",
    "    if \"attributes\" in doc:\n",
    "        attr_str = format_attributes(doc[\"attributes\"])\n",
    "        if attr_str:\n",
    "            node_info += \"<br>\" + attr_str\n",
    "    G.add_node(node_id, title=node_info, label=node_id)\n",
    "\n",
    "# Add edges based on relationships\n",
    "for doc in docs:\n",
    "    source = doc[\"_id\"]\n",
    "    rels = doc.get(\"relationships\", {})\n",
    "    target_ids = rels.get(\"target_ids\", [])\n",
    "    rel_types = rels.get(\"types\", [])\n",
    "    rel_attrs = rels.get(\"attributes\", [])\n",
    "    \n",
    "    # Ensure all three lists have the same length\n",
    "    for i in range(len(target_ids)):\n",
    "        target = target_ids[i]\n",
    "        edge_type = rel_types[i] if i < len(rel_types) else \"\"\n",
    "        # Get edge attributes info if available\n",
    "        extra_attr = {}\n",
    "        if i < len(rel_attrs) and rel_attrs[i]:\n",
    "            extra_attr = rel_attrs[i]\n",
    "        edge_info = f\"Relationship: {edge_type}\"\n",
    "        if extra_attr:\n",
    "            edge_info += \"<br>\" + format_attributes(extra_attr)\n",
    "        # Add the edge with title attribute for hover\n",
    "        G.add_edge(source, target, title=edge_info, label=edge_type)\n",
    "\n",
    "# Create and show the network using pyvis. This might not work in some environments.\n",
    "net = Network(height=\"550px\", width=\"100%\", notebook=True, directed=True)\n",
    "net.from_nx(G)\n",
    "net.show(\"graph.html\")"
   ]
  },
  {
   "cell_type": "markdown",
   "id": "fbea568d-c656-4271-9e40-6ee01292255e",
   "metadata": {},
   "source": [
    "## Answer questions on your data\n",
    "\n",
    "The `MongoDBGraphStore` class provides a `chat_response` method that you can use to answer questions on your data. It executes queries by using the `$graphLookup` aggregation stage."
   ]
  },
  {
   "cell_type": "code",
   "execution_count": null,
   "id": "506c7366-972c-4e50-88c4-3d5b0151e363",
   "metadata": {},
   "outputs": [],
   "source": [
    "query = \"Who inspired Sherlock Holmes?\"\n",
    "\n",
    "answer = graph_store.chat_response(query)\n",
    "answer.content"
   ]
  }
 ],
 "metadata": {
  "kernelspec": {
   "display_name": "Python 3 (ipykernel)",
   "language": "python",
   "name": "python3"
  },
  "language_info": {
   "codemirror_mode": {
    "name": "ipython",
    "version": 3
   },
   "file_extension": ".py",
   "mimetype": "text/x-python",
   "name": "python",
   "nbconvert_exporter": "python",
   "pygments_lexer": "ipython3",
   "version": "3.9.6"
  }
 },
 "nbformat": 4,
 "nbformat_minor": 5
}
