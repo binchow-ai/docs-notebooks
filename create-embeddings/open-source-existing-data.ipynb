{
 "cells": [
  {
   "cell_type": "markdown",
   "metadata": {},
   "source": [
    "# Atlas Vector Search - Create Embeddings - Open Source - Existing Data"
   ]
  },
  {
   "cell_type": "markdown",
   "metadata": {},
   "source": [
    "This notebook is a companion to the [Create Embeddings](https://www.mongodb.com/docs/atlas/atlas-vector-search/create-embeddings/) page. Refer to the page for set-up instructions and detailed explanations.\n",
    "\n",
    "This notebook takes you through how to generate embeddings from **existing data in Atlas** by using the open-source ``nomic-embed-text-v1`` model. It also includes code to convert your embeddings to BSON binData vectors for efficient processing of your data.\n",
    "\n",
    "<a target=\"_blank\" href=\"https://colab.research.google.com/github/mongodb/docs-notebooks/blob/main/create-embeddings/open-source-existing-data.ipynb\">\n",
    "  <img src=\"https://colab.research.google.com/assets/colab-badge.svg\" alt=\"Open In Colab\"/>\n",
    "</a>"
   ]
  },
  {
   "cell_type": "code",
   "execution_count": null,
   "metadata": {
    "vscode": {
     "languageId": "shellscript"
    }
   },
   "outputs": [],
   "source": [
    "pip install --quiet --upgrade sentence-transformers pymongo einops"
   ]
  },
  {
   "cell_type": "code",
   "execution_count": null,
   "metadata": {},
   "outputs": [],
   "source": [
    "from sentence_transformers import SentenceTransformer\n",
    "\n",
    "# Load the embedding model\n",
    "model = SentenceTransformer(\"nomic-ai/nomic-embed-text-v1\", trust_remote_code=True)\n",
    "\n",
    "# Define a function to generate embeddings in multiple precisions\n",
    "def get_embedding(data, precision=\"float32\"):\n",
    "    return model.encode(data, precision=precision)"
   ]
  },
  {
   "cell_type": "code",
   "execution_count": null,
   "metadata": {},
   "outputs": [],
   "source": [
    "from bson.binary import Binary\n",
    "\n",
    "# Generate BSON vector using `BinaryVectorDtype`\n",
    "def generate_bson_vector(vector, vector_dtype):\n",
    "    return Binary.from_vector(vector, vector_dtype)"
   ]
  },
  {
   "cell_type": "code",
   "execution_count": null,
   "metadata": {},
   "outputs": [],
   "source": [
    "# Function to create documents with BSON vector embeddings\n",
    "def create_docs_with_bson_vector_embeddings(bson_float32, bson_int8, bson_int1, data):\n",
    "  docs = []\n",
    "  for i, (bson_f32_emb, bson_int8_emb, bson_int1_emb, text) in enumerate(zip(bson_float32, bson_int8, bson_int1, data)):\n",
    "        doc = {\n",
    "            \"_id\": i,\n",
    "            \"data\": text,\n",
    "            \"BSON-Float32-Embedding\": bson_f32_emb,\n",
    "            \"BSON-Int8-Embedding\": bson_int8_emb,\n",
    "            \"BSON-Int1-Embedding\": bson_int1_emb,\n",
    "        }\n",
    "        docs.append(doc)\n",
    "  return docs"
   ]
  },
  {
   "cell_type": "code",
   "execution_count": null,
   "metadata": {},
   "outputs": [],
   "source": [
    "# Example generating embeddings for the strings \"foo\" and \"bar\"\n",
    "data = [\"foo\", \"bar\"]\n",
    "float32_embeddings = get_embedding(data, \"float32\")\n",
    "int8_embeddings = get_embedding(data, \"int8\")\n",
    "int1_embeddings = get_embedding(data, \"ubinary\")\n",
    "\n",
    "print(\"Float32 Embedding:\", float32_embeddings)\n",
    "print(\"Int8 Embedding:\", int8_embeddings)\n",
    "print(\"Int1 Embedding (binary representation):\", int1_embeddings)"
   ]
  },
  {
   "cell_type": "code",
   "execution_count": null,
   "metadata": {},
   "outputs": [],
   "source": [
    "from bson.binary import BinaryVectorDtype\n",
    "\n",
    "bson_float32_embeddings = []\n",
    "bson_int8_embeddings = []\n",
    "bson_int1_embeddings = []\n",
    "\n",
    "for (f32_emb, int8_emb, int1_emb) in zip(float32_embeddings, int8_embeddings, int1_embeddings):\n",
    "    bson_float32_embeddings.append(generate_bson_vector(f32_emb, BinaryVectorDtype.FLOAT32))\n",
    "    bson_int8_embeddings.append(generate_bson_vector(int8_emb, BinaryVectorDtype.INT8))\n",
    "    bson_int1_embeddings.append(generate_bson_vector(int1_emb, BinaryVectorDtype.PACKED_BIT))\n",
    "\n",
    "# Print the embeddings\n",
    "print(f\"The converted bson_float32_new_embedding is: {bson_float32_embeddings}\")\n",
    "print(f\"The converted bson_int8_new_embedding is: {bson_int8_embeddings}\")\n",
    "print(f\"The converted bson_int1_new_embedding is: {bson_int1_embeddings}\")"
   ]
  },
  {
   "cell_type": "code",
   "execution_count": 7,
   "metadata": {},
   "outputs": [],
   "source": [
    "import pymongo\n",
    "\n",
    "# Connect to your Atlas cluster\n",
    "mongo_client = pymongo.MongoClient(\"<connection-string>\")\n",
    "db = mongo_client[\"sample_airbnb\"]\n",
    "collection = db[\"listingsAndReviews\"]\n",
    "\n",
    "# Define a filter to exclude documents with null or empty 'summary' fields\n",
    "summary_filter = {\"summary\": {\"$nin\": [None, \"\"]}}\n",
    "\n",
    "# Get a subset of documents in the collection\n",
    "documents = collection.find(summary_filter, {'_id': 1, 'summary': 1}).limit(50)"
   ]
  },
  {
   "cell_type": "code",
   "execution_count": null,
   "metadata": {},
   "outputs": [],
   "source": [
    "updated_doc_count = 0\n",
    "for doc in documents:\n",
    "   summary = doc[\"summary\"]\n",
    "\n",
    "   # Generate float32 and other embeddings\n",
    "   float32_embeddings = get_embedding(summary, precision=\"float32\")\n",
    "   int8_embeddings = get_embedding(summary, precision=\"int8\")\n",
    "   int1_embeddings = get_embedding(summary, precision=\"ubinary\")\n",
    "\n",
    "   # Initialize variables to store BSON vectors\n",
    "   bson_float32_embeddings = generate_bson_vector(float32_embeddings, BinaryVectorDtype.FLOAT32)\n",
    "   bson_int8_embeddings = generate_bson_vector(int8_embeddings, BinaryVectorDtype.INT8)\n",
    "   bson_int1_embeddings = generate_bson_vector(int1_embeddings, BinaryVectorDtype.PACKED_BIT)\n",
    "\n",
    "   # Update each document with new embedding fields\n",
    "   collection.update_one(\n",
    "      {\"_id\": doc[\"_id\"]},\n",
    "      {\"$set\": {\n",
    "         \"BSON-Float32-Embedding\": bson_float32_embeddings,\n",
    "         \"BSON-Int8-Embedding\": bson_int8_embeddings,\n",
    "         \"BSON-Int1-Embedding\": bson_int1_embeddings\n",
    "      }},\n",
    "   )\n",
    "   updated_doc_count += 1\n",
    "\n",
    "print(f\"Updated {updated_doc_count} documents.\")"
   ]
  },
  {
   "cell_type": "code",
   "execution_count": null,
   "metadata": {},
   "outputs": [],
   "source": [
    "from pymongo.operations import SearchIndexModel\n",
    "\n",
    "# Create your index model, then create the search index\n",
    "search_index_model = SearchIndexModel(\n",
    "  definition = {\n",
    "    \"fields\": [\n",
    "      {\n",
    "        \"type\": \"vector\",\n",
    "        \"path\": \"BSON-Float32-Embedding\",\n",
    "        \"similarity\": \"dotProduct\",\n",
    "        \"numDimensions\": 768\n",
    "      },\n",
    "      {\n",
    "        \"type\": \"vector\",\n",
    "        \"path\": \"BSON-Int8-Embedding\",\n",
    "        \"similarity\": \"dotProduct\",\n",
    "        \"numDimensions\": 768\n",
    "      },\n",
    "      {\n",
    "        \"type\": \"vector\",\n",
    "        \"path\": \"BSON-Int1-Embedding\",\n",
    "        \"similarity\": \"euclidean\",\n",
    "        \"numDimensions\": 768\n",
    "      }\n",
    "    ]\n",
    "  },\n",
    "  name=\"vector_index\",\n",
    "  type=\"vectorSearch\",\n",
    ")\n",
    "collection.create_search_index(model=search_index_model)"
   ]
  },
  {
   "cell_type": "code",
   "execution_count": null,
   "metadata": {},
   "outputs": [],
   "source": [
    "# Prepare your query\n",
    "query_text = \"beach house\"\n",
    "\n",
    "# Generate embedding for the search query\n",
    "query_float32_embeddings = get_embedding(query_text, precision=\"float32\")\n",
    "query_int8_embeddings = get_embedding(query_text, precision=\"int8\")\n",
    "query_int1_embeddings = get_embedding(query_text, precision=\"ubinary\")\n",
    "\n",
    "# Convert each embedding to BSON format\n",
    "query_bson_float32_embeddings = generate_bson_vector(query_float32_embeddings, BinaryVectorDtype.FLOAT32)\n",
    "query_bson_int8_embeddings = generate_bson_vector(query_int8_embeddings, BinaryVectorDtype.INT8)\n",
    "query_bson_int1_embeddings = generate_bson_vector(query_int1_embeddings, BinaryVectorDtype.PACKED_BIT)\n",
    "\n",
    "# Define vector search pipeline for each precision\n",
    "pipelines = []\n",
    "for query_embedding, path in zip(\n",
    "    [query_bson_float32_embeddings, query_bson_int8_embeddings, query_bson_int1_embeddings],\n",
    "    [\"BSON-Float32-Embedding\", \"BSON-Int8-Embedding\", \"BSON-Int1-Embedding\"]\n",
    "):\n",
    "    pipeline = [\n",
    "       {\n",
    "          \"$vectorSearch\": {\n",
    "                \"index\": \"vector_index\",  # Adjust if necessary\n",
    "                \"queryVector\": query_embedding,\n",
    "                \"path\": path,\n",
    "                \"exact\": True,\n",
    "                \"limit\": 5\n",
    "          }\n",
    "       },\n",
    "       {\n",
    "          \"$project\": {\n",
    "             \"_id\": 0,\n",
    "             \"summary\": 1,\n",
    "             \"score\": {\n",
    "                \"$meta\": \"vectorSearchScore\"\n",
    "             }\n",
    "          }\n",
    "       }\n",
    "    ]\n",
    "    pipelines.append(pipeline)\n",
    "\n",
    "# Execute the search for each precision\n",
    "for pipeline in pipelines:\n",
    "    print(f\"Results for {pipeline[0]['$vectorSearch']['path']}:\")\n",
    "    results = collection.aggregate(pipeline)\n",
    "    \n",
    "    # Print results\n",
    "    for i in results:\n",
    "        print(i)"
   ]
  }
 ],
 "metadata": {
  "kernelspec": {
   "display_name": "Python 3",
   "language": "python",
   "name": "python3"
  },
  "language_info": {
   "codemirror_mode": {
    "name": "ipython",
    "version": 3
   },
   "file_extension": ".py",
   "mimetype": "text/x-python",
   "name": "python",
   "nbconvert_exporter": "python",
   "pygments_lexer": "ipython3",
   "version": "3.9.12"
  }
 },
 "nbformat": 4,
 "nbformat_minor": 2
}
