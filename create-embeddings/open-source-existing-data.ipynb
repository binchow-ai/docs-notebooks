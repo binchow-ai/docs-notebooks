{
 "cells": [
  {
   "cell_type": "markdown",
   "metadata": {},
   "source": [
    "# Atlas Vector Search - Create Embeddings - Open Source - Existing Data"
   ]
  },
  {
   "cell_type": "markdown",
   "metadata": {},
   "source": [
    "This notebook is a companion to the [Create Embeddings](https://www.mongodb.com/docs/atlas/atlas-vector-search/create-embeddings/) page. Refer to the page for set-up instructions and detailed explanations.\n",
    "\n",
    "This notebook takes you through how to generate embeddings from **existing data in Atlas** by using the open-source ``nomic-embed-text-v1`` model.\n",
    "\n",
    "<a target=\"_blank\" href=\"https://colab.research.google.com/github/mongodb/docs-notebooks/blob/main/create-embeddings/open-source-existing-data.ipynb\">\n",
    "  <img src=\"https://colab.research.google.com/assets/colab-badge.svg\" alt=\"Open In Colab\"/>\n",
    "</a>"
   ]
  },
  {
   "cell_type": "code",
   "execution_count": null,
   "metadata": {
    "vscode": {
     "languageId": "shellscript"
    }
   },
   "outputs": [],
   "source": [
    "pip install --quiet --upgrade sentence-transformers pymongo einops"
   ]
  },
  {
   "cell_type": "code",
   "execution_count": null,
   "metadata": {},
   "outputs": [],
   "source": [
    "from sentence_transformers import SentenceTransformer\n",
    "\n",
    "# Load the embedding model (https://huggingface.co/nomic-ai/nomic-embed-text-v1\")\n",
    "model = SentenceTransformer(\"nomic-ai/nomic-embed-text-v1\", trust_remote_code=True)\n",
    "\n",
    "# Define a function to generate embeddings\n",
    "def get_embedding(data):\n",
    "   \"\"\"Generates vector embeddings for the given data.\"\"\"\n",
    "\n",
    "   embedding = model.encode(data)\n",
    "   return embedding.tolist()\n",
    "\n",
    "# Generate an embedding\n",
    "get_embedding(\"foo\")"
   ]
  },
  {
   "cell_type": "code",
   "execution_count": null,
   "metadata": {},
   "outputs": [],
   "source": [
    "import pymongo\n",
    "\n",
    "# Connect to your Atlas cluster\n",
    "mongo_client = pymongo.MongoClient(\"<connection-string>\")\n",
    "db = mongo_client[\"sample_airbnb\"]\n",
    "collection = db[\"listingsAndReviews\"]\n",
    "\n",
    "# Filter to exclude null or empty summary fields\n",
    "filter = { \"summary\": {\"$nin\": [ None, \"\" ]} }\n",
    "\n",
    "# Get a subset of documents in the collection\n",
    "documents = collection.find(filter).limit(50)\n",
    "\n",
    "# Update each document with a new embedding field\n",
    "updated_doc_count = 0\n",
    "for doc in documents:\n",
    "    embedding = get_embedding(doc[\"summary\"])\n",
    "    collection.update_one( { \"_id\": doc[\"_id\"] }, { \"$set\": { \"embedding\": embedding } } )\n",
    "    updated_doc_count += 1\n",
    "\n",
    "print(f\"Updated {updated_doc_count} documents.\")"
   ]
  },
  {
   "cell_type": "code",
   "execution_count": null,
   "metadata": {},
   "outputs": [],
   "source": [
    "from pymongo.operations import SearchIndexModel\n",
    "\n",
    "# Create your index model, then create the search index\n",
    "search_index_model = SearchIndexModel(\n",
    "  definition = {\n",
    "    \"fields\": [\n",
    "      {\n",
    "        \"type\": \"vector\",\n",
    "        \"path\": \"embedding\",\n",
    "        \"similarity\": \"dotProduct\",\n",
    "        \"numDimensions\": 768\n",
    "      }\n",
    "    ]\n",
    "  },\n",
    "  name=\"vector_index\",\n",
    "  type=\"vectorSearch\",\n",
    ")\n",
    "collection.create_search_index(model=search_index_model)"
   ]
  },
  {
   "cell_type": "code",
   "execution_count": null,
   "metadata": {},
   "outputs": [],
   "source": [
    "# Generate embedding for the search query\n",
    "query_embedding = get_embedding(\"beach house\")\n",
    "\n",
    "# Sample vector search pipeline\n",
    "pipeline = [\n",
    "   {\n",
    "      \"$vectorSearch\": {\n",
    "            \"index\": \"vector_index\",\n",
    "            \"queryVector\": query_embedding,\n",
    "            \"path\": \"embedding\",\n",
    "            \"exact\": True,\n",
    "            \"limit\": 5\n",
    "      }\n",
    "   }, \n",
    "   {\n",
    "      \"$project\": {\n",
    "         \"_id\": 0, \n",
    "         \"summary\": 1,\n",
    "         \"score\": {\n",
    "            \"$meta\": \"vectorSearchScore\"\n",
    "         }\n",
    "      }\n",
    "   }\n",
    "]\n",
    "\n",
    "# Execute the search\n",
    "results = collection.aggregate(pipeline)\n",
    "\n",
    "# Print results\n",
    "for i in results:\n",
    "   print(i)\n"
   ]
  }
 ],
 "metadata": {
  "kernelspec": {
   "display_name": "Python 3",
   "language": "python",
   "name": "python3"
  },
  "language_info": {
   "codemirror_mode": {
    "name": "ipython",
    "version": 3
   },
   "file_extension": ".py",
   "mimetype": "text/x-python",
   "name": "python",
   "nbconvert_exporter": "python",
   "pygments_lexer": "ipython3",
   "version": "3.9.12"
  }
 },
 "nbformat": 4,
 "nbformat_minor": 2
}
