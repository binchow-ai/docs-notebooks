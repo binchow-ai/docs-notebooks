{
 "cells": [
  {
   "cell_type": "markdown",
   "metadata": {},
   "source": [
    "# Atlas Vector Search - Create Embeddings - Open Source - New Data"
   ]
  },
  {
   "cell_type": "markdown",
   "metadata": {},
   "source": [
    "This notebook is a companion to the [Create Embeddings](https://www.mongodb.com/docs/atlas/atlas-vector-search/create-embeddings/) page. Refer to the page for set-up instructions and detailed explanations.\n",
    "\n",
    "This notebook takes you through how to generate embeddings from **new data** by using the open-source ``nomic-embed-text-v1`` model. It also includes code to convert your embeddings to BSON binData vectors for efficient processing of your data.\n",
    "\n",
    "<a target=\"_blank\" href=\"https://colab.research.google.com/github/mongodb/docs-notebooks/blob/main/create-embeddings/open-source-new-data.ipynb\">\n",
    "  <img src=\"https://colab.research.google.com/assets/colab-badge.svg\" alt=\"Open In Colab\"/>\n",
    "</a>"
   ]
  },
  {
   "cell_type": "code",
   "execution_count": null,
   "metadata": {
    "vscode": {
     "languageId": "shellscript"
    }
   },
   "outputs": [],
   "source": [
    "pip install --quiet --upgrade sentence-transformers pymongo einops"
   ]
  },
  {
   "cell_type": "code",
   "execution_count": null,
   "metadata": {},
   "outputs": [],
   "source": [
    "from sentence_transformers import SentenceTransformer\n",
    "\n",
    "# Load the embedding model\n",
    "model = SentenceTransformer(\"nomic-ai/nomic-embed-text-v1\", trust_remote_code=True)\n",
    "\n",
    "# Define a function to generate embeddings in multiple precisions\n",
    "def get_embedding(data, precision=\"float32\"):\n",
    "    return model.encode(data, precision=precision)"
   ]
  },
  {
   "cell_type": "code",
   "execution_count": null,
   "metadata": {},
   "outputs": [],
   "source": [
    "from bson.binary import Binary\n",
    "\n",
    "# Generate BSON vector using `BinaryVectorDtype`\n",
    "def generate_bson_vector(vector, vector_dtype):\n",
    "    return Binary.from_vector(vector, vector_dtype)"
   ]
  },
  {
   "cell_type": "code",
   "execution_count": null,
   "metadata": {},
   "outputs": [],
   "source": [
    "# Function to create documents with BSON vector embeddings\n",
    "def create_docs_with_bson_vector_embeddings(bson_float32, bson_int8, bson_int1, data):\n",
    "  docs = []\n",
    "  for i, (bson_f32_emb, bson_int8_emb, bson_int1_emb, text) in enumerate(zip(bson_float32, bson_int8, bson_int1, data)):\n",
    "        doc = {\n",
    "            \"_id\": i,\n",
    "            \"data\": text,\n",
    "            \"BSON-Float32-Embedding\": bson_f32_emb,\n",
    "            \"BSON-Int8-Embedding\": bson_int8_emb,\n",
    "            \"BSON-Int1-Embedding\": bson_int1_emb,\n",
    "        }\n",
    "        docs.append(doc)\n",
    "  return docs"
   ]
  },
  {
   "cell_type": "code",
   "execution_count": null,
   "metadata": {},
   "outputs": [],
   "source": [
    "# Example generating embeddings for the strings \"foo\" and \"bar\"\n",
    "data = [\"foo\", \"bar\"]\n",
    "float32_embeddings = get_embedding(data, \"float32\")\n",
    "int8_embeddings = get_embedding(data, \"int8\")\n",
    "int1_embeddings = get_embedding(data, \"ubinary\")\n",
    "\n",
    "print(\"Float32 Embedding:\", float32_embeddings)\n",
    "print(\"Int8 Embedding:\", int8_embeddings)\n",
    "print(\"Int1 Embedding (binary representation):\", int1_embeddings)"
   ]
  },
  {
   "cell_type": "code",
   "execution_count": null,
   "metadata": {},
   "outputs": [],
   "source": [
    "from bson.binary import BinaryVectorDtype\n",
    "\n",
    "bson_float32_embeddings = []\n",
    "bson_int8_embeddings = []\n",
    "bson_int1_embeddings = []\n",
    "\n",
    "for (f32_emb, int8_emb, int1_emb) in zip(float32_embeddings, int8_embeddings, int1_embeddings):\n",
    "    bson_float32_embeddings.append(generate_bson_vector(f32_emb, BinaryVectorDtype.FLOAT32))\n",
    "    bson_int8_embeddings.append(generate_bson_vector(int8_emb, BinaryVectorDtype.INT8))\n",
    "    bson_int1_embeddings.append(generate_bson_vector(int1_emb, BinaryVectorDtype.PACKED_BIT))\n",
    "\n",
    "# Print the embeddings\n",
    "print(f\"The converted bson_float32_new_embedding is: {bson_float32_embeddings}\")\n",
    "print(f\"The converted bson_int8_new_embedding is: {bson_int8_embeddings}\")\n",
    "print(f\"The converted bson_int1_new_embedding is: {bson_int1_embeddings}\")"
   ]
  },
  {
   "cell_type": "code",
   "execution_count": null,
   "metadata": {},
   "outputs": [],
   "source": [
    " # Sample data\n",
    " sentences = [\n",
    "  \"Titanic: The story of the 1912 sinking of the largest luxury liner ever built\",\n",
    "  \"The Lion King: Lion cub and future king Simba searches for his identity\",\n",
    "  \"Avatar: A marine is dispatched to the moon Pandora on a unique mission\",\n",
    "  \"Inception: A skilled thief is given a chance at redemption if he can successfully implant an idea into a person's subconscious.\",\n",
    "  \"The Godfather: The aging patriarch of a powerful crime family transfers control of his empire to his reluctant son.\",\n",
    "  \"Forrest Gump: A man with a low IQ recounts several decades of extraordinary events in his life.\",\n",
    "  \"Jurassic Park: Scientists clone dinosaurs to populate an island theme park, which soon goes awry.\",\n",
    "  \"The Matrix: A hacker discovers the true nature of reality and his role in the war against its controllers.\",\n",
    "  \"Star Wars: A young farm boy is swept into the struggle between the Rebel Alliance and the Galactic Empire.\",\n",
    "  \"The Shawshank Redemption: A banker is sentenced to life in Shawshank State Penitentiary for the murders of his wife and her lover.\",\n",
    "  \"Indiana Jones and the Last Crusade: An archaeologist pursues the Holy Grail while confronting adversaries from the past.\",\n",
    "  \"The Dark Knight: Batman faces a new menace, the Joker, who plunges Gotham into anarchy.\",\n",
    "  \"Back to the Future: A teenager accidentally travels back in time and must ensure his parents fall in love.\",\n",
    "  \"The Silence of the Lambs: A young FBI agent seeks the help of an incarcerated cannibalistic killer to catch another serial killer.\",\n",
    "  \"E.T. the Extra-Terrestrial: A young boy befriends an alien stranded on Earth and helps him return home.\",\n",
    "  \"Saving Private Ryan: During WWII, a group of U.S. soldiers go behind enemy lines to retrieve a paratrooper whose brothers have been killed in action.\",\n",
    "  \"Gladiator: A once-powerful Roman general seeks vengeance against the corrupt emperor who betrayed his family.\",\n",
    "  \"Rocky: A small-time boxer gets a once-in-a-lifetime chance to fight the world heavyweight champion.\",\n",
    "  \"Pirates of the Caribbean: Jack Sparrow races to recover the heart of Davy Jones to escape eternal servitude.\",\n",
    "  \"Schindler's List: The true story of a man who saved hundreds of Jews during the Holocaust by employing them in his factory.\"\n",
    "]"
   ]
  },
  {
   "cell_type": "code",
   "execution_count": null,
   "metadata": {},
   "outputs": [],
   "source": [
    "float32_embeddings = get_embedding(sentences, precision=\"float32\")\n",
    "int8_embeddings = get_embedding(sentences, precision=\"int8\")\n",
    "int1_embeddings = get_embedding(sentences, precision=\"ubinary\")\n",
    "\n",
    "# Print stored embeddings\n",
    "print(\"Generated embeddings stored in different variables:\")\n",
    "for i, text in enumerate(sentences):\n",
    "    print(f\"\\nText: {text}\")\n",
    "    print(f\"Float32 Embedding: {float32_embeddings[i][:3]}... (truncated)\")\n",
    "    print(f\"Int8 Embedding: {int8_embeddings[i][:3]}... (truncated)\")\n",
    "    print(f\"Ubinary Embedding: {int1_embeddings[i][:3]}... (truncated)\")"
   ]
  },
  {
   "cell_type": "code",
   "execution_count": null,
   "metadata": {},
   "outputs": [],
   "source": [
    "from bson.binary import BinaryVectorDtype\n",
    "\n",
    "bson_float32_embeddings = []\n",
    "bson_int8_embeddings = []\n",
    "bson_int1_embeddings = []\n",
    "\n",
    "# Convert each embedding to BSON\n",
    "for (f32_emb, int8_emb, int1_emb) in zip(float32_embeddings, int8_embeddings, int1_embeddings):\n",
    "    bson_float32_embeddings.append(generate_bson_vector(f32_emb, BinaryVectorDtype.FLOAT32))\n",
    "    bson_int8_embeddings.append(generate_bson_vector(int8_emb, BinaryVectorDtype.INT8))\n",
    "    bson_int1_embeddings.append(generate_bson_vector(int1_emb, BinaryVectorDtype.PACKED_BIT))\n",
    "\n",
    "# Print the embeddings\n",
    "for idx, text in enumerate(sentences):\n",
    "    print(f\"\\nText: {text}\")\n",
    "    print(f\"Float32 BSON: {bson_float32_embeddings[idx]}\")\n",
    "    print(f\"Int8 BSON: {bson_int8_embeddings[idx]}\")\n",
    "    print(f\"Int1 BSON: {bson_int1_embeddings[idx]}\")"
   ]
  },
  {
   "cell_type": "code",
   "execution_count": null,
   "metadata": {},
   "outputs": [],
   "source": [
    "# Create BSON documents\n",
    "docs = create_docs_with_bson_vector_embeddings(bson_float32_embeddings, bson_int8_embeddings, bson_int1_embeddings, sentences)"
   ]
  },
  {
   "cell_type": "code",
   "execution_count": null,
   "metadata": {},
   "outputs": [],
   "source": [
    "import pymongo\n",
    "\n",
    "# Connect to your Atlas cluster\n",
    "mongo_client = pymongo.MongoClient(\"<connection-string>\")\n",
    "db = mongo_client[\"sample_db\"]\n",
    "collection = db[\"embeddings\"]\n",
    "\n",
    "# Ingest data into Atlas\n",
    "collection.insert_many(docs)"
   ]
  },
  {
   "cell_type": "code",
   "execution_count": null,
   "metadata": {},
   "outputs": [],
   "source": [
    "from pymongo.operations import SearchIndexModel\n",
    "import time\n",
    "\n",
    "# Create your index model, then create the search index\n",
    "search_index_model = SearchIndexModel(\n",
    "  definition = {\n",
    "    \"fields\": [\n",
    "      {\n",
    "        \"type\": \"vector\",\n",
    "        \"path\": \"BSON-Float32-Embedding\",\n",
    "        \"similarity\": \"dotProduct\",\n",
    "        \"numDimensions\": 768\n",
    "      },\n",
    "      {\n",
    "        \"type\": \"vector\",\n",
    "        \"path\": \"BSON-Int8-Embedding\",\n",
    "        \"similarity\": \"dotProduct\",\n",
    "        \"numDimensions\": 768\n",
    "      },\n",
    "      {\n",
    "        \"type\": \"vector\",\n",
    "        \"path\": \"BSON-Int1-Embedding\",\n",
    "        \"similarity\": \"euclidean\",\n",
    "        \"numDimensions\": 768\n",
    "      }\n",
    "    ]\n",
    "  },\n",
    "  name=\"vector_index3\",\n",
    "  type=\"vectorSearch\",\n",
    ")\n",
    "result = collection.create_search_index(model=search_index_model)\n",
    "print(\"New search index named \" + result + \" is building.\")\n",
    "\n",
    "# Wait for initial sync to complete\n",
    "print(\"Polling to check if the index is ready. This may take up to a minute.\")\n",
    "predicate=None\n",
    "if predicate is None:\n",
    "  predicate = lambda index: index.get(\"queryable\") is True\n",
    "\n",
    "while True:\n",
    "  indices = list(collection.list_search_indexes(result))\n",
    "  if len(indices) and predicate(indices[0]):\n",
    "    break\n",
    "  time.sleep(5)\n",
    "print(result + \" is ready for querying.\")"
   ]
  },
  {
   "cell_type": "code",
   "execution_count": null,
   "metadata": {},
   "outputs": [],
   "source": [
    "# Prepare your query\n",
    "query_text = \"ocean tragedy\"\n",
    "\n",
    "# Generate embedding for the search query\n",
    "query_float32_embeddings = get_embedding(query_text, precision=\"float32\")\n",
    "query_int8_embeddings = get_embedding(query_text, precision=\"int8\")\n",
    "query_int1_embeddings = get_embedding(query_text, precision=\"ubinary\")\n",
    "\n",
    "# Convert each embedding to BSON format\n",
    "query_bson_float32_embeddings = generate_bson_vector(query_float32_embeddings, BinaryVectorDtype.FLOAT32)\n",
    "query_bson_int8_embeddings = generate_bson_vector(query_int8_embeddings, BinaryVectorDtype.INT8)\n",
    "query_bson_int1_embeddings = generate_bson_vector(query_int1_embeddings, BinaryVectorDtype.PACKED_BIT)\n",
    "\n",
    "# Define vector search pipeline for each precision\n",
    "pipelines = []\n",
    "for query_embedding, path in zip(\n",
    "    [query_bson_float32_embeddings, query_bson_int8_embeddings, query_bson_int1_embeddings],\n",
    "    [\"BSON-Float32-Embedding\", \"BSON-Int8-Embedding\", \"BSON-Int1-Embedding\"]\n",
    "):\n",
    "    pipeline = [\n",
    "       {\n",
    "          \"$vectorSearch\": {\n",
    "                \"index\": \"vector_index\",  # Adjust if necessary\n",
    "                \"queryVector\": query_embedding,\n",
    "                \"path\": path,\n",
    "                \"exact\": True,\n",
    "                \"limit\": 5\n",
    "          }\n",
    "       },\n",
    "       {\n",
    "          \"$project\": {\n",
    "             \"_id\": 0,\n",
    "             \"data\": 1,\n",
    "             \"score\": {\n",
    "                \"$meta\": \"vectorSearchScore\"\n",
    "             }\n",
    "          }\n",
    "       }\n",
    "    ]\n",
    "    pipelines.append(pipeline)\n",
    "\n",
    "# Execute the search for each precision\n",
    "for pipeline in pipelines:\n",
    "    print(f\"\\nResults for {pipeline[0]['$vectorSearch']['path']}:\")\n",
    "    results = collection.aggregate(pipeline)\n",
    "\n",
    "    # Print results\n",
    "    for i in results:\n",
    "        print(i)"
   ]
  }
 ],
 "metadata": {
  "kernelspec": {
   "display_name": "Python 3",
   "language": "python",
   "name": "python3"
  },
  "language_info": {
   "codemirror_mode": {
    "name": "ipython",
    "version": 3
   },
   "file_extension": ".py",
   "mimetype": "text/x-python",
   "name": "python",
   "nbconvert_exporter": "python",
   "pygments_lexer": "ipython3",
   "version": "3.10.12"
  }
 },
 "nbformat": 4,
 "nbformat_minor": 2
}
