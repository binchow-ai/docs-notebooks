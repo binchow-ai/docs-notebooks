{
 "cells": [
  {
   "cell_type": "markdown",
   "metadata": {},
   "source": [
    "# Atlas Vector Search - Vector Quantization - Existing Data"
   ]
  },
  {
   "cell_type": "markdown",
   "metadata": {},
   "source": [
    "This notebook is a companion for the [Vector Quantization](https://www.mongodb.com/docs/atlas/atlas-vector-search/vector-quantization/#how-to-ingest-pre-quantized-vectors) page. Refer to this page for set up steps and explanation details.\n",
    "\n",
    "This notebook takes you through how to pre-quantize and ingest your vectors for vector search from **existing data in Atlas** by using [Cohere's](https://cohere.com/) `embed-english-v3.0` model."
   ]
  },
  {
   "cell_type": "code",
   "execution_count": null,
   "metadata": {},
   "outputs": [],
   "source": [
    "pip --quiet --upgrade install pymongo cohere"
   ]
  },
  {
   "cell_type": "code",
   "execution_count": null,
   "metadata": {},
   "outputs": [],
   "source": [
    "import os\n",
    "import pymongo\n",
    "import cohere\n",
    "from bson.binary import Binary, BinaryVectorDtype\n",
    "\n",
    "# Specify your Cohere API key\n",
    "os.environ[\"COHERE_API_KEY\"] = \"<COHERE-API-KEY>\"\n",
    "cohere_client = cohere.Client(os.environ[\"COHERE_API_KEY\"])\n",
    "\n",
    "# Define function to generate embeddings using the embed-english-v3.0 model\n",
    "def get_embedding(text):\n",
    "    response = cohere_client.embed(\n",
    "      texts=[text],\n",
    "      model='embed-english-v3.0',\n",
    "      input_type='search_document',\n",
    "      embedding_types=[\"float\"] # Can also be \"int8\" or \"ubinary\" (int1)\n",
    "    )\n",
    "    embedding = response.embeddings.float[0]\n",
    "    return embedding\n",
    "\n",
    "# Define function to convert embeddings to BSON-compatible format\n",
    "def generate_bson_vector(vector, vector_dtype):\n",
    "    return Binary.from_vector(vector, vector_dtype)"
   ]
  },
  {
   "cell_type": "code",
   "execution_count": null,
   "metadata": {},
   "outputs": [],
   "source": [
    "# Connect to your Atlas cluster\n",
    "mongo_client = pymongo.MongoClient(\"<ATLAS-CONNECTION-STRING>\")\n",
    "db = mongo_client[\"sample_airbnb\"]\n",
    "collection = db[\"listingsAndReviews\"]\n",
    "\n",
    "# Filter to exclude null or empty summary fields\n",
    "filter = { \"summary\": {\"$nin\": [None, \"\"]} }\n",
    "\n",
    "# Get a subset of documents in the collection\n",
    "documents = collection.find(filter).limit(50)\n",
    "\n",
    "# Initialize the count of updated documents\n",
    "updated_doc_count = 0"
   ]
  },
  {
   "cell_type": "code",
   "execution_count": null,
   "metadata": {},
   "outputs": [],
   "source": [
    "for doc in documents:\n",
    "    # Generate embeddings based on the summary\n",
    "    summary = doc[\"summary\"]\n",
    "    embedding = get_embedding(summary)  # Get float32 embedding\n",
    "\n",
    "    # Convert float32 embeddings into BSON format\n",
    "    bson_vector = generate_bson_vector(embedding, BinaryVectorDtype.FLOAT32)\n",
    "\n",
    "    # Uncomment one of following lines if you specified a different data type in the get_embedding function\n",
    "    # bson_vector = generate_bson_vector(embedding, BinaryVectorDtype.INT8)\n",
    "    # bson_vector = generate_bson_vector(embedding, BinaryVectorDtype.PACKED_BIT) # int1\n",
    "\n",
    "    # Update the document with the BSON embedding\n",
    "    collection.update_one(\n",
    "        {\"_id\": doc[\"_id\"]},\n",
    "        {\"$set\": {\"embedding\": bson_vector}}\n",
    "    )\n",
    "    updated_doc_count += 1\n",
    "\n",
    "print(f\"Updated {updated_doc_count} documents with BSON embeddings.\")"
   ]
  },
  {
   "cell_type": "code",
   "execution_count": null,
   "metadata": {},
   "outputs": [],
   "source": [
    "from pymongo.operations import SearchIndexModel\n",
    "\n",
    "# Define and create the vector search index\n",
    "vector_search_index_definition = {\n",
    "  \"fields\":[\n",
    "    {\n",
    "      \"type\": \"vector\",\n",
    "      \"path\": \"embedding\",\n",
    "      \"similarity\": \"euclidean\",\n",
    "      \"numDimensions\": 1024,\n",
    "    }\n",
    "  ]\n",
    "}\n",
    "\n",
    "search_index_model = SearchIndexModel(definition=vector_search_index_definition, name=\"<INDEX-NAME>\", type=\"vectorSearch\")\n",
    "\n",
    "collection.create_search_index(model=search_index_model)"
   ]
  },
  {
   "cell_type": "code",
   "execution_count": null,
   "metadata": {},
   "outputs": [],
   "source": [
    "# Define a function to run a vector search query\n",
    "def run_vector_search(query_text, collection, path):\n",
    "  query_embedding = get_embedding(\"query_text\")\n",
    "  bson_query_vector = generate_bson_vector(query_embedding, BinaryVectorDtype.FLOAT32)\n",
    "\n",
    "  pipeline = [\n",
    "    {\n",
    "      '$vectorSearch': {\n",
    "        'index': '<INDEX-NAME>',\n",
    "        'path': path,\n",
    "        'queryVector': bson_query_vector,\n",
    "        'numCandidates': <NUMBER-OF-CANDIDATES-TO-CONSIDER>, # for example, 20\n",
    "        'limit': <NUMBER-OF-DOCUMENTS-TO-RETURN> # for example, 5\n",
    "       }\n",
    "     },\n",
    "     {\n",
    "       '$project': {\n",
    "         '_id': 0,\n",
    "         'name': 1,\n",
    "         'summary': 1,\n",
    "         'score': { '$meta': 'vectorSearchScore' }\n",
    "        }\n",
    "     }\n",
    "  ]\n",
    "\n",
    "  return collection.aggregate(pipeline)"
   ]
  },
  {
   "cell_type": "code",
   "execution_count": null,
   "metadata": {},
   "outputs": [],
   "source": [
    "from pprint import pprint\n",
    "\n",
    "# Run a vector search query\n",
    "query_text = \"ocean view\"\n",
    "query_results = run_vector_search(query_text, collection, \"embedding\")\n",
    "\n",
    "print(\"query results:\")\n",
    "pprint(list(query_results))"
   ]
  }
 ],
 "metadata": {
  "language_info": {
   "codemirror_mode": {
    "name": "ipython",
    "version": 3
   },
   "file_extension": ".py",
   "mimetype": "text/x-python",
   "name": "python",
   "nbconvert_exporter": "python",
   "pygments_lexer": "ipython3"
  }
 },
 "nbformat": 4,
 "nbformat_minor": 2
}
